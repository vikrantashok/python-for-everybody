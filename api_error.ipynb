{
 "cells": [
  {
   "cell_type": "code",
   "execution_count": 5,
   "id": "9ca6f727-3845-49fb-8ea8-3e5b0faed2cd",
   "metadata": {},
   "outputs": [
    {
     "name": "stdin",
     "output_type": "stream",
     "text": [
      "enter location:  maharashtra\n"
     ]
    },
    {
     "name": "stdout",
     "output_type": "stream",
     "text": [
      "retriving https://maps.googleapis.com/maps/api/geocode/json?address=maharashtra\n",
      "retrived 237  characters\n",
      "fail to retrive\n",
      "{\n",
      "   \"error_message\" : \"You must use an API key to authenticate each request to Google Maps Platform APIs. For additional information, please refer to http://g.co/dev/maps-no-account\",\n",
      "   \"results\" : [],\n",
      "   \"status\" : \"REQUEST_DENIED\"\n",
      "}\n",
      "\n"
     ]
    },
    {
     "name": "stdin",
     "output_type": "stream",
     "text": [
      "enter location:  Ann Arbor,MI,USA\n"
     ]
    },
    {
     "name": "stdout",
     "output_type": "stream",
     "text": [
      "retriving https://maps.googleapis.com/maps/api/geocode/json?address=Ann+Arbor%2CMI%2CUSA\n",
      "retrived 237  characters\n",
      "fail to retrive\n",
      "{\n",
      "   \"error_message\" : \"You must use an API key to authenticate each request to Google Maps Platform APIs. For additional information, please refer to http://g.co/dev/maps-no-account\",\n",
      "   \"results\" : [],\n",
      "   \"status\" : \"REQUEST_DENIED\"\n",
      "}\n",
      "\n"
     ]
    },
    {
     "name": "stdin",
     "output_type": "stream",
     "text": [
      "enter location:  \n"
     ]
    }
   ],
   "source": [
    "import urllib.request,urllib.parse,urllib.error\n",
    "import json\n",
    "\n",
    "serviceurl=\"https://maps.googleapis.com/maps/api/geocode/json?\"\n",
    "\n",
    "while True:\n",
    "    address=input('enter location: ')\n",
    "    if len(address) < 1: break\n",
    "    \n",
    "    url=serviceurl+urllib.parse.urlencode({'address':address})\n",
    "    \n",
    "    print('retriving',url)\n",
    "    uh=urllib.request.urlopen(url)\n",
    "    data=uh.read().decode()\n",
    "    print('retrived',len(data),' characters')\n",
    "    try:\n",
    "        js=json.loads(data)\n",
    "    except:\n",
    "        js=None\n",
    "    \n",
    "    \n",
    "    if not js or 'status' not in js or js['status']!='OK':\n",
    "        print('fail to retrive')\n",
    "        print(data)\n",
    "        continue\n",
    "    \n",
    "    \n",
    "    print(json.dumps(js,indent=4))\n",
    "    \n",
    "    lat=js[\"results\"][0][\"geometry\"][\"location\"][\"lat\"]\n",
    "    lng=js[\"results\"][0][\"geometry\"][\"location\"][\"lng\"]\n",
    "    \n",
    "    print('lat',lat,'lng',lng)\n",
    "    \n",
    "          \n",
    "          "
   ]
  },
  {
   "cell_type": "code",
   "execution_count": null,
   "id": "fa16daf6-1b07-40cf-b9eb-e97a12ad77ef",
   "metadata": {},
   "outputs": [],
   "source": []
  }
 ],
 "metadata": {
  "kernelspec": {
   "display_name": "Python 3 (ipykernel)",
   "language": "python",
   "name": "python3"
  },
  "language_info": {
   "codemirror_mode": {
    "name": "ipython",
    "version": 3
   },
   "file_extension": ".py",
   "mimetype": "text/x-python",
   "name": "python",
   "nbconvert_exporter": "python",
   "pygments_lexer": "ipython3",
   "version": "3.10.2"
  }
 },
 "nbformat": 4,
 "nbformat_minor": 5
}
