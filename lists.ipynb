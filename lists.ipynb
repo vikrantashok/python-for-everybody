{
 "cells": [
  {
   "cell_type": "code",
   "execution_count": 1,
   "id": "ef74c085",
   "metadata": {},
   "outputs": [
    {
     "name": "stdout",
     "output_type": "stream",
     "text": [
      "['12', '13', '14']\n"
     ]
    }
   ],
   "source": [
    "num=['12','13','14']\n",
    "print(num)"
   ]
  },
  {
   "cell_type": "code",
   "execution_count": 3,
   "id": "803e78e5",
   "metadata": {},
   "outputs": [
    {
     "name": "stdout",
     "output_type": "stream",
     "text": [
      "5\n",
      "4\n",
      "3\n",
      "2\n",
      "1\n",
      "blastoff\n"
     ]
    }
   ],
   "source": [
    "for i in ['5','4','3','2','1']:\n",
    "    print(i)\n",
    "    \n",
    "print('blastoff')\n"
   ]
  },
  {
   "cell_type": "code",
   "execution_count": 5,
   "id": "77f93e6e",
   "metadata": {},
   "outputs": [
    {
     "name": "stdout",
     "output_type": "stream",
     "text": [
      "happy new year aarsh\n",
      "happy new year sagar\n",
      "happy new year kaustubh\n",
      "happy new year atharva\n",
      "thats it...!\n"
     ]
    }
   ],
   "source": [
    "friends=['aarsh','sagar','kaustubh','atharva']\n",
    "\n",
    "for friend in friends:\n",
    "    print('happy new year '+friend)\n",
    "   \n",
    "print('thats it...!')"
   ]
  },
  {
   "cell_type": "code",
   "execution_count": 7,
   "id": "661e2179",
   "metadata": {},
   "outputs": [
    {
     "data": {
      "text/plain": [
       "[5, 1000, 3, 2, 1]"
      ]
     },
     "execution_count": 7,
     "metadata": {},
     "output_type": "execute_result"
    }
   ],
   "source": [
    "#mutable\n",
    "items=[5,4,3,2,1]\n",
    "items[1]=1000\n",
    "items\n"
   ]
  },
  {
   "cell_type": "code",
   "execution_count": 8,
   "id": "8ebbaa8b",
   "metadata": {},
   "outputs": [
    {
     "name": "stdout",
     "output_type": "stream",
     "text": [
      "5\n"
     ]
    }
   ],
   "source": [
    "print(len(items))"
   ]
  },
  {
   "cell_type": "code",
   "execution_count": 1,
   "id": "50e5b1ca",
   "metadata": {},
   "outputs": [],
   "source": [
    "a=['1','2','3']"
   ]
  },
  {
   "cell_type": "code",
   "execution_count": 2,
   "id": "d15cf9ca-4bf6-4656-b661-ae7665b88372",
   "metadata": {},
   "outputs": [
    {
     "name": "stdout",
     "output_type": "stream",
     "text": [
      "['1', '2', '3', '4', '5', '6']\n"
     ]
    }
   ],
   "source": [
    "b=['4','5','6']\n",
    "c=a+b\n",
    "print(c)"
   ]
  },
  {
   "cell_type": "code",
   "execution_count": 3,
   "id": "7c84c217-d758-402f-bfac-0f2039a480b9",
   "metadata": {},
   "outputs": [],
   "source": [
    "stuff=list()\n",
    "stuff.append('avengers')\n",
    "stuff.append(123123123)\n"
   ]
  },
  {
   "cell_type": "code",
   "execution_count": 4,
   "id": "b21b4e19-9324-4cd6-8d1a-7ebfc0ec7309",
   "metadata": {},
   "outputs": [
    {
     "name": "stdout",
     "output_type": "stream",
     "text": [
      "['avengers', 123123123]\n"
     ]
    }
   ],
   "source": [
    "print(stuff)"
   ]
  },
  {
   "cell_type": "code",
   "execution_count": 5,
   "id": "52a3763c-618d-43a5-a483-7ca75825c088",
   "metadata": {},
   "outputs": [
    {
     "data": {
      "text/plain": [
       "['ashok', 'lata', 'vikrant']"
      ]
     },
     "execution_count": 5,
     "metadata": {},
     "output_type": "execute_result"
    }
   ],
   "source": [
    "fam=['vikrant','ashok','lata']\n",
    "fam.sort()\n",
    "fam"
   ]
  },
  {
   "cell_type": "code",
   "execution_count": 7,
   "id": "59171aea-120c-4a64-a168-c76e6bc5e518",
   "metadata": {},
   "outputs": [
    {
     "data": {
      "text/plain": [
       "804"
      ]
     },
     "execution_count": 7,
     "metadata": {},
     "output_type": "execute_result"
    }
   ],
   "source": [
    "list=[2,3,62,14,36,678,9]\n",
    "sum(list)\n"
   ]
  },
  {
   "cell_type": "code",
   "execution_count": 8,
   "id": "ae68593c-d13b-48c8-aa1d-4b78cf3631a9",
   "metadata": {},
   "outputs": [
    {
     "data": {
      "text/plain": [
       "114.85714285714286"
      ]
     },
     "execution_count": 8,
     "metadata": {},
     "output_type": "execute_result"
    }
   ],
   "source": [
    "avg=(sum(list)/len(list))\n",
    "avg"
   ]
  },
  {
   "cell_type": "code",
   "execution_count": null,
   "id": "83b81183-acce-456a-9123-34c4a57a5765",
   "metadata": {},
   "outputs": [],
   "source": []
  }
 ],
 "metadata": {
  "kernelspec": {
   "display_name": "Python 3 (ipykernel)",
   "language": "python",
   "name": "python3"
  },
  "language_info": {
   "codemirror_mode": {
    "name": "ipython",
    "version": 3
   },
   "file_extension": ".py",
   "mimetype": "text/x-python",
   "name": "python",
   "nbconvert_exporter": "python",
   "pygments_lexer": "ipython3",
   "version": "3.10.2"
  }
 },
 "nbformat": 4,
 "nbformat_minor": 5
}
