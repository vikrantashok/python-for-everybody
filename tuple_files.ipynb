{
 "cells": [
  {
   "cell_type": "code",
   "execution_count": 1,
   "id": "871e933b-deb6-43de-abe2-655f0009bbde",
   "metadata": {},
   "outputs": [
    {
     "name": "stdout",
     "output_type": "stream",
     "text": [
      "sev 2\n",
      "wen 4\n"
     ]
    }
   ],
   "source": [
    "d=dict()\n",
    "d['sev']=2\n",
    "d['wen']=4\n",
    "for (k,v) in d.items():\n",
    "    print(k,v)"
   ]
  },
  {
   "cell_type": "code",
   "execution_count": 2,
   "id": "a82b6022-67fa-41eb-a770-8a6a6cd19586",
   "metadata": {},
   "outputs": [
    {
     "name": "stdout",
     "output_type": "stream",
     "text": [
      "dict_items([('sev', 2), ('wen', 4)])\n"
     ]
    }
   ],
   "source": [
    "tups=d.items()\n",
    "print(tups)"
   ]
  },
  {
   "cell_type": "code",
   "execution_count": 8,
   "id": "80f29664-1e20-408f-bccb-9992d9d7e7ac",
   "metadata": {},
   "outputs": [
    {
     "name": "stdout",
     "output_type": "stream",
     "text": [
      "the 226\n",
      "to 204\n",
      "a 165\n",
      "and 160\n",
      "you 130\n",
      "is 112\n",
      "of 103\n",
      "Python 85\n",
      "that 68\n",
      "in 66\n"
     ]
    }
   ],
   "source": [
    "fname=open(\"D:\\py codes\\intro.txt\")\n",
    "counts=dict()\n",
    "for line in fname:\n",
    "    words=line.split()\n",
    "    for word in words:\n",
    "        counts[word]=counts.get(word,0) + 1\n",
    "lst=list()\n",
    "for key,val in counts.items():\n",
    "    newtup=(val,key)\n",
    "    lst.append(newtup)\n",
    "lst = sorted(lst,reverse=True)\n",
    "for val,key in lst[:10]:\n",
    "    print(key,val)\n",
    "    "
   ]
  },
  {
   "cell_type": "code",
   "execution_count": null,
   "id": "aeddb522-e771-4d79-a0f6-aead07d319c9",
   "metadata": {},
   "outputs": [],
   "source": []
  }
 ],
 "metadata": {
  "kernelspec": {
   "display_name": "Python 3 (ipykernel)",
   "language": "python",
   "name": "python3"
  },
  "language_info": {
   "codemirror_mode": {
    "name": "ipython",
    "version": 3
   },
   "file_extension": ".py",
   "mimetype": "text/x-python",
   "name": "python",
   "nbconvert_exporter": "python",
   "pygments_lexer": "ipython3",
   "version": "3.10.2"
  }
 },
 "nbformat": 4,
 "nbformat_minor": 5
}
