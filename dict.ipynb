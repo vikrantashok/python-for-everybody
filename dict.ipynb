{
 "cells": [
  {
   "cell_type": "code",
   "execution_count": 1,
   "id": "27376489-1d77-4b6b-bce0-ba179763c760",
   "metadata": {},
   "outputs": [
    {
     "name": "stdout",
     "output_type": "stream",
     "text": [
      "{'money': 12, 'candy': 3, 'tissue': 75}\n"
     ]
    }
   ],
   "source": [
    "purse=dict()\n",
    "purse['money']=12\n",
    "purse['candy']=3\n",
    "purse['tissue']=75\n",
    "print(purse)"
   ]
  },
  {
   "cell_type": "code",
   "execution_count": 3,
   "id": "d5571568-c531-40d2-9df7-abb4aafb31eb",
   "metadata": {},
   "outputs": [
    {
     "data": {
      "text/plain": [
       "{'sev': 2, 'bhel': 2}"
      ]
     },
     "execution_count": 3,
     "metadata": {},
     "output_type": "execute_result"
    }
   ],
   "source": [
    "ccc=dict()\n",
    "ccc['sev']=1\n",
    "ccc['bhel']=2\n",
    "ccc['sev']=ccc['sev']+1\n",
    "ccc"
   ]
  },
  {
   "cell_type": "code",
   "execution_count": 6,
   "id": "fa5dedc6-16bf-4613-acbf-690b9f254c56",
   "metadata": {},
   "outputs": [
    {
     "name": "stdout",
     "output_type": "stream",
     "text": [
      "{'sagar': 1, 'aarsh': 1, 'vikrant': 2, 'khan': 1}\n"
     ]
    }
   ],
   "source": [
    "count=dict()\n",
    "names=['sagar','aarsh','vikrant','vikrant','khan']\n",
    "for name in names:\n",
    "    if name not in count:\n",
    "        \n",
    "        count[name]=1\n",
    "    else:\n",
    "        count[name]=count[name]+1\n",
    "print(count)\n",
    "        "
   ]
  },
  {
   "cell_type": "code",
   "execution_count": 7,
   "id": "ad8dde8b-d81a-4fc2-941d-dfb0b31ab5c5",
   "metadata": {},
   "outputs": [
    {
     "name": "stdout",
     "output_type": "stream",
     "text": [
      "{'a': 3, 'b': 2, 'c': 2, 'd': 1}\n"
     ]
    }
   ],
   "source": [
    "count=dict()\n",
    "names=['a','b','c','a','a','c','d','b']\n",
    "for name in names:\n",
    "    count[name]=count.get(name,0)+1\n",
    "\n",
    "print(count)"
   ]
  },
  {
   "cell_type": "raw",
   "id": "586bc69a-7ac7-42bb-a441-ee66b7f1a22b",
   "metadata": {},
   "source": []
  },
  {
   "cell_type": "code",
   "execution_count": 18,
   "id": "6a68df70-8076-4eb0-9838-a98684613a29",
   "metadata": {},
   "outputs": [
    {
     "name": "stderr",
     "output_type": "stream",
     "text": [
      "IOPub data rate exceeded.\n",
      "The Jupyter server will temporarily stop sending output\n",
      "to the client in order to avoid crashing it.\n",
      "To change this limit, set the config variable\n",
      "`--ServerApp.iopub_data_rate_limit`.\n",
      "\n",
      "Current values:\n",
      "ServerApp.iopub_data_rate_limit=1000000.0 (bytes/sec)\n",
      "ServerApp.rate_limit_window=3.0 (secs)\n",
      "\n"
     ]
    }
   ],
   "source": [
    "fname=open(\"D:\\py codes\\intro.txt\")\n",
    "di=dict()\n",
    "for lin in fname:\n",
    "    lin=lin.rstrip()\n",
    "    #print(lin)\n",
    "    wds=lin.split()\n",
    "    #print(wds)\n",
    "    for w in wds:\n",
    "        if w in di :\n",
    "            di[w]=di[w]+1\n",
    "        else:\n",
    "            di[w]=1\n",
    "        print(di)    "
   ]
  },
  {
   "cell_type": "code",
   "execution_count": null,
   "id": "151dcee1-089e-462b-9177-62cdac31e7f8",
   "metadata": {},
   "outputs": [],
   "source": []
  },
  {
   "cell_type": "code",
   "execution_count": null,
   "id": "ba469d8c-6f89-4e4b-bdf6-3288a4f8296b",
   "metadata": {},
   "outputs": [],
   "source": []
  },
  {
   "cell_type": "code",
   "execution_count": null,
   "id": "63d50d8a-b818-4b7a-a682-c2fd0ac986c1",
   "metadata": {},
   "outputs": [],
   "source": []
  }
 ],
 "metadata": {
  "kernelspec": {
   "display_name": "Python 3 (ipykernel)",
   "language": "python",
   "name": "python3"
  },
  "language_info": {
   "codemirror_mode": {
    "name": "ipython",
    "version": 3
   },
   "file_extension": ".py",
   "mimetype": "text/x-python",
   "name": "python",
   "nbconvert_exporter": "python",
   "pygments_lexer": "ipython3",
   "version": "3.10.2"
  }
 },
 "nbformat": 4,
 "nbformat_minor": 5
}
